{
 "cells": [
  {
   "cell_type": "markdown",
   "metadata": {},
   "source": [
    "### Numpy basics"
   ]
  },
  {
   "cell_type": "markdown",
   "metadata": {},
   "source": [
    "1\\. Find the row, column and overall means for the following matrix:\n",
    "\n",
    "```python\n",
    "m = np.arange(12).reshape((3,4))\n",
    "```"
   ]
  },
  {
   "cell_type": "code",
   "execution_count": 2,
   "metadata": {
    "scrolled": true
   },
   "outputs": [
    {
     "name": "stdout",
     "output_type": "stream",
     "text": [
      "matrix = \n",
      "[[ 0  1  2  3]\n",
      " [ 4  5  6  7]\n",
      " [ 8  9 10 11]]\n",
      "rows = 3 , cols = 4\n",
      "col means [4. 5. 6. 7.]\n",
      "row means [1.5 5.5 9.5]\n",
      "overall mean 5.5\n"
     ]
    }
   ],
   "source": [
    "import numpy as np\n",
    "import math\n",
    "import matplotlib.pyplot as plt\n",
    "\n",
    "m = np.arange(12).reshape((3,4))\n",
    "row, col = m.shape\n",
    "print('matrix = ')\n",
    "print(m)\n",
    "print('rows =',row,', cols =', col)\n",
    "overall_mean = np.mean(m)\n",
    "col_means=np.mean(m, axis=0)\n",
    "row_means=np.mean(m, axis=1)\n",
    "\n",
    "print('col means', col_means)\n",
    "print('row means', row_means)\n",
    "print('overall mean' ,overall_mean)"
   ]
  },
  {
   "cell_type": "markdown",
   "metadata": {},
   "source": [
    "2\\. Find the outer product of the following two vecotrs\n",
    "\n",
    "```python\n",
    "u = np.array([1,3,5,7])\n",
    "v = np.array([2,4,6,8])\n",
    "```\n",
    "\n",
    "Do this in the following ways:\n",
    "\n",
    "   * Using the function outer in numpy\n",
    "   * Using a nested for loop or list comprehension\n",
    "   * Using numpy broadcasting operatoins\n"
   ]
  },
  {
   "cell_type": "code",
   "execution_count": 84,
   "metadata": {},
   "outputs": [
    {
     "name": "stdout",
     "output_type": "stream",
     "text": [
      "[[2, 4, 6, 8], [6, 12, 18, 24], [10, 20, 30, 40], [14, 28, 42, 56]]\n",
      "[[ 2  4  6  8]\n",
      " [ 6 12 18 24]\n",
      " [10 20 30 40]\n",
      " [14 28 42 56]]\n",
      "[[ 2  4  6  8]\n",
      " [ 6 12 18 24]\n",
      " [10 20 30 40]\n",
      " [14 28 42 56]]\n"
     ]
    }
   ],
   "source": [
    "u = np.array([1,3,5,7])\n",
    "v = np.array([2,4,6,8])\n",
    "\n",
    "#outer function Numpy\n",
    "out = np.outer(u, v)\n",
    "\n",
    "fl=[]\n",
    "for i in range(0, len(u)):\n",
    "    lt=[]\n",
    "    for j in range(0, len(u)):\n",
    "        lt.append(u[i]*v[j])    \n",
    "    fl.append(lt)\n",
    "##becomes st\n",
    "out_prod = np.reshape(u,(4,1))*v\n",
    "print(fl)\n",
    "print(out)\n",
    "\n",
    "print(out_prod)\n"
   ]
  },
  {
   "cell_type": "markdown",
   "metadata": {},
   "source": [
    "3\\. Create a 10 by 6 matrix of random uniform numbers. Set all rows with any entry less than 0.1 to be zero\n",
    "\n",
    "Hint: Use the following numpy functions - np.random.random, np.any as well as Boolean indexing and the axis argument."
   ]
  },
  {
   "cell_type": "code",
   "execution_count": 22,
   "metadata": {},
   "outputs": [
    {
     "name": "stdout",
     "output_type": "stream",
     "text": [
      "Basic rand array\n",
      "[0.28859897 0.835452   0.04374628]\n",
      "Rand rand array\n",
      "[[0.78434199 0.11439267 0.46228445 0.48617712 0.31364982 0.84514955]\n",
      " [0.23696108 0.93335622 0.53848723 0.98698975 0.34263165 0.47784143]\n",
      " [0.67051188 0.61058306 0.72578029 0.19447984 0.20452173 0.22687475]\n",
      " [0.72721222 0.69626136 0.36954315 0.74491032 0.0677918  0.30776737]\n",
      " [0.85852744 0.20507245 0.02784626 0.82202801 0.38532926 0.58558378]\n",
      " [0.42129446 0.38587831 0.0919507  0.74612155 0.6989526  0.30432784]\n",
      " [0.39843674 0.91318657 0.22157409 0.42474082 0.93336397 0.27712566]\n",
      " [0.55979442 0.76961495 0.64110313 0.89403738 0.94923048 0.5765639 ]\n",
      " [0.82642872 0.07389678 0.70557364 0.76804177 0.00729425 0.52313764]\n",
      " [0.89884539 0.02685299 0.48541243 0.90545511 0.54307664 0.21372342]]\n",
      "Boolean_index r<0.1\n",
      "[[False False False False False False]\n",
      " [False False False False False False]\n",
      " [False False False False False False]\n",
      " [False False False False  True False]\n",
      " [False False  True False False False]\n",
      " [False False  True False False False]\n",
      " [False False False False False False]\n",
      " [False False False False False False]\n",
      " [False  True False False  True False]\n",
      " [False  True False False False False]]\n",
      "Values Selected\n",
      "[0.0677918  0.02784626 0.0919507  0.07389678 0.00729425 0.02685299]\n",
      "Final array\n",
      "[[0.78434199 0.11439267 0.46228445 0.48617712 0.31364982 0.84514955]\n",
      " [0.23696108 0.93335622 0.53848723 0.98698975 0.34263165 0.47784143]\n",
      " [0.67051188 0.61058306 0.72578029 0.19447984 0.20452173 0.22687475]\n",
      " [0.72721222 0.69626136 0.36954315 0.74491032 0.         0.30776737]\n",
      " [0.85852744 0.20507245 0.         0.82202801 0.38532926 0.58558378]\n",
      " [0.42129446 0.38587831 0.         0.74612155 0.6989526  0.30432784]\n",
      " [0.39843674 0.91318657 0.22157409 0.42474082 0.93336397 0.27712566]\n",
      " [0.55979442 0.76961495 0.64110313 0.89403738 0.94923048 0.5765639 ]\n",
      " [0.82642872 0.         0.70557364 0.76804177 0.         0.52313764]\n",
      " [0.89884539 0.         0.48541243 0.90545511 0.54307664 0.21372342]]\n"
     ]
    }
   ],
   "source": [
    "#basic random array\n",
    "print('Basic rand array')\n",
    "random_matrix_array = np.random.rand(3)\n",
    "print(random_matrix_array)\n",
    "\n",
    "## np.random.random\n",
    "print('Rand rand array')\n",
    "r_array=np.random.rand(10, 6)\n",
    "print(r_array)\n",
    "\n",
    "##boolean index\n",
    "print('Boolean_index r<0.1')\n",
    "boolean_index = r_array < 0.1\n",
    "print(boolean_index)\n",
    "print('Values Selected')\n",
    "print(r_array[boolean_index])\n",
    "\n",
    "print('Final array')\n",
    "r_array[r_array < 0.1] = 0\n",
    "print(r_array)"
   ]
  },
  {
   "cell_type": "markdown",
   "metadata": {},
   "source": [
    "4\\. Use np.linspace to create an array of 100 numbers between 0 and 2π (includsive).\n",
    "\n",
    "  * Extract every 10th element using slice notation\n",
    "  * Reverse the array using slice notation\n",
    "  * Extract elements where the absolute difference between the sine and cosine functions evaluated at that element is less than 0.1\n",
    "  * Make a plot showing the sin and cos functions and indicate where they are close"
   ]
  },
  {
   "cell_type": "code",
   "execution_count": 42,
   "metadata": {},
   "outputs": [
    {
     "name": "stdout",
     "output_type": "stream",
     "text": [
      " 0 -> 2pi linear array\n",
      "[0.         0.06346652 0.12693304 0.19039955 0.25386607 0.31733259\n",
      " 0.38079911 0.44426563 0.50773215 0.57119866 0.63466518 0.6981317\n",
      " 0.76159822 0.82506474 0.88853126 0.95199777 1.01546429 1.07893081\n",
      " 1.14239733 1.20586385 1.26933037 1.33279688 1.3962634  1.45972992\n",
      " 1.52319644 1.58666296 1.65012947 1.71359599 1.77706251 1.84052903\n",
      " 1.90399555 1.96746207 2.03092858 2.0943951  2.15786162 2.22132814\n",
      " 2.28479466 2.34826118 2.41172769 2.47519421 2.53866073 2.60212725\n",
      " 2.66559377 2.72906028 2.7925268  2.85599332 2.91945984 2.98292636\n",
      " 3.04639288 3.10985939 3.17332591 3.23679243 3.30025895 3.36372547\n",
      " 3.42719199 3.4906585  3.55412502 3.61759154 3.68105806 3.74452458\n",
      " 3.8079911  3.87145761 3.93492413 3.99839065 4.06185717 4.12532369\n",
      " 4.1887902  4.25225672 4.31572324 4.37918976 4.44265628 4.5061228\n",
      " 4.56958931 4.63305583 4.69652235 4.75998887 4.82345539 4.88692191\n",
      " 4.95038842 5.01385494 5.07732146 5.14078798 5.2042545  5.26772102\n",
      " 5.33118753 5.39465405 5.45812057 5.52158709 5.58505361 5.64852012\n",
      " 5.71198664 5.77545316 5.83891968 5.9023862  5.96585272 6.02931923\n",
      " 6.09278575 6.15625227 6.21971879 6.28318531]\n",
      "10 Steps\n",
      "[0.         0.63466518 1.26933037 1.90399555 2.53866073 3.17332591\n",
      " 3.8079911  4.44265628 5.07732146 5.71198664]\n",
      "Reverse array\n",
      "[6.28318531 6.21971879 6.15625227 6.09278575 6.02931923 5.96585272\n",
      " 5.9023862  5.83891968 5.77545316 5.71198664 5.64852012 5.58505361\n",
      " 5.52158709 5.45812057 5.39465405 5.33118753 5.26772102 5.2042545\n",
      " 5.14078798 5.07732146 5.01385494 4.95038842 4.88692191 4.82345539\n",
      " 4.75998887 4.69652235 4.63305583 4.56958931 4.5061228  4.44265628\n",
      " 4.37918976 4.31572324 4.25225672 4.1887902  4.12532369 4.06185717\n",
      " 3.99839065 3.93492413 3.87145761 3.8079911  3.74452458 3.68105806\n",
      " 3.61759154 3.55412502 3.4906585  3.42719199 3.36372547 3.30025895\n",
      " 3.23679243 3.17332591 3.10985939 3.04639288 2.98292636 2.91945984\n",
      " 2.85599332 2.7925268  2.72906028 2.66559377 2.60212725 2.53866073\n",
      " 2.47519421 2.41172769 2.34826118 2.28479466 2.22132814 2.15786162\n",
      " 2.0943951  2.03092858 1.96746207 1.90399555 1.84052903 1.77706251\n",
      " 1.71359599 1.65012947 1.58666296 1.52319644 1.45972992 1.3962634\n",
      " 1.33279688 1.26933037 1.20586385 1.14239733 1.07893081 1.01546429\n",
      " 0.95199777 0.88853126 0.82506474 0.76159822 0.6981317  0.63466518\n",
      " 0.57119866 0.50773215 0.44426563 0.38079911 0.31733259 0.25386607\n",
      " 0.19039955 0.12693304 0.06346652 0.        ]\n",
      "Boolean_index r<0.1\n",
      "[ True  True False False False False False False False False False False\n",
      " False False False False False False False False False False False False\n",
      " False False False False False False False False False False False False\n",
      " False False False False False False False False False False False False\n",
      " False False False False False False False False False False False False\n",
      " False False False False False False False False False False False False\n",
      " False False False False False False False False False False False False\n",
      " False False False False False False False False False False False False\n",
      " False False False False]\n",
      "Values Selected\n",
      "[0.         0.06346652]\n"
     ]
    },
    {
     "data": {
      "image/png": "[encoded data removed]",
      "text/plain": [
       "<Figure size 432x288 with 1 Axes>"
      ]
     },
     "metadata": {
      "needs_background": "light"
     },
     "output_type": "display_data"
    }
   ],
   "source": [
    "#How slicing works\n",
    "#[ <first element to include> : <first element to exclude> : <step> ]\n",
    "\n",
    "pi = math.pi\n",
    "lin_array=np.linspace(0, 2*pi, 100)\n",
    "print(' 0 -> 2pi linear array')\n",
    "print(lin_array)\n",
    "\n",
    "step_10=lin_array[0::10] \n",
    "print('10 Steps')\n",
    "print(step_10)\n",
    "\n",
    "rev_lin_array = lin_array[::-1]\n",
    "print('Reverse array')\n",
    "print(rev_lin_array)\n",
    "\n",
    "print('Boolean_index r<0.1')\n",
    "b_index = lin_array < 0.1\n",
    "print(b_index)\n",
    "print('Values Selected')\n",
    "print(lin_array[b_index])\n",
    "\n",
    "#long winded but clear  \n",
    "sin_array= np.sin(lin_array)\n",
    "cos_array= np.cos(lin_array)\n",
    "diffrence=sin_array -cos_array\n",
    "abs_diffrence = np.abs(diffrence)\n",
    "\n",
    "close = abs_diffrence < 0.1\n",
    "x_close=lin_array[close]\n",
    "y_close=sin_array[close]\n",
    "\n",
    "plt.plot(lin_array, sin_array, 'o', label='sin')\n",
    "plt.plot(lin_array, cos_array, 'o', label='cos')\n",
    "plt.plot(x_close, y_close, 'o', label='close')\n",
    "\n",
    "#plt.plot(x, intercept + slope*x,)\n",
    "plt.xlabel(\"theta / rad\")\n",
    "plt.ylabel(\"f(theta)\")\n",
    "plt.show()    "
   ]
  },
  {
   "cell_type": "markdown",
   "metadata": {},
   "source": [
    "5\\. Create a matrix that shows the 10 by 10 multiplication table.\n",
    "\n",
    " * Find the trace of the matrix\n",
    " * Extract the anto-diagonal (this should be ```array([10, 18, 24, 28, 30, 30, 28, 24, 18, 10])```)\n",
    " * Extract the diagnoal offset by 1 upwards (this should be ```array([ 2,  6, 12, 20, 30, 42, 56, 72, 90])```)"
   ]
  },
  {
   "cell_type": "code",
   "execution_count": 73,
   "metadata": {},
   "outputs": [
    {
     "name": "stdout",
     "output_type": "stream",
     "text": [
      "[[  1.   2.   3.   4.   5.   6.   7.   8.   9.  10.]\n",
      " [  2.   4.   6.   8.  10.  12.  14.  16.  18.  20.]\n",
      " [  3.   6.   9.  12.  15.  18.  21.  24.  27.  30.]\n",
      " [  4.   8.  12.  16.  20.  24.  28.  32.  36.  40.]\n",
      " [  5.  10.  15.  20.  25.  30.  35.  40.  45.  50.]\n",
      " [  6.  12.  18.  24.  30.  36.  42.  48.  54.  60.]\n",
      " [  7.  14.  21.  28.  35.  42.  49.  56.  63.  70.]\n",
      " [  8.  16.  24.  32.  40.  48.  56.  64.  72.  80.]\n",
      " [  9.  18.  27.  36.  45.  54.  63.  72.  81.  90.]\n",
      " [ 10.  20.  30.  40.  50.  60.  70.  80.  90. 100.]]\n",
      "[10. 18. 24. 28. 30. 30. 28. 24. 18. 10.]\n",
      "[ 2.  6. 12. 20. 30. 42. 56. 72. 90.]\n"
     ]
    }
   ],
   "source": [
    "array_10_1D = np.arange(1, 11)\n",
    "m=np.linspace(1, 10, 10)\n",
    "n=np.linspace(1, 10, 10)\n",
    "m_10 = array_10_1D*np.reshape(n,(10,1))\n",
    "print(m_10)\n",
    "\n",
    "trace=np.trace(mult_10)\n",
    "\n",
    "flip_m_10=np.fliplr(m_10)\n",
    "anto_diag=np.diagonal(flip_m_10)\n",
    "print(anto_diag)\n",
    "#numpy.diagonal(a, offset=0, axis1=0, axis2=1)\n",
    "\n",
    "up_1 =np.diagonal(m_10, offset=1)\n",
    "print(up_1)"
   ]
  },
  {
   "cell_type": "markdown",
   "metadata": {},
   "source": [
    "6\\. Use broadcasting to create a grid of distances\n",
    "\n",
    "Route 66 crosses the following cities in the US: Chicago, Springfield, Saint-Louis, Tulsa, Oklahoma City, Amarillo, Santa Fe, Albuquerque, Flagstaff, Los Angeles\n",
    "The corresponding positions in miles are: 0, 198, 303, 736, 871, 1175, 1475, 1544, 1913, 2448\n",
    "\n",
    "  * Construct a 2D grid of distances among each city along Route 66\n",
    "  * Convert that in km (those savages...)"
   ]
  },
  {
   "cell_type": "code",
   "execution_count": 7,
   "metadata": {
    "scrolled": true
   },
   "outputs": [
    {
     "name": "stdout",
     "output_type": "stream",
     "text": [
      "Miles\n",
      "[[   0  198  303  736  871 1175 1475 1544 1913 2448]\n",
      " [ 198    0  105  538  673  977 1277 1346 1715 2250]\n",
      " [ 303  105    0  433  568  872 1172 1241 1610 2145]\n",
      " [ 736  538  433    0  135  439  739  808 1177 1712]\n",
      " [ 871  673  568  135    0  304  604  673 1042 1577]\n",
      " [1175  977  872  439  304    0  300  369  738 1273]\n",
      " [1475 1277 1172  739  604  300    0   69  438  973]\n",
      " [1544 1346 1241  808  673  369   69    0  369  904]\n",
      " [1913 1715 1610 1177 1042  738  438  369    0  535]\n",
      " [2448 2250 2145 1712 1577 1273  973  904  535    0]]\n",
      "km\n",
      "[[   0.  319.  488. 1184. 1402. 1891. 2374. 2485. 3079. 3940.]\n",
      " [ 319.    0.  169.  866. 1083. 1572. 2055. 2166. 2760. 3621.]\n",
      " [ 488.  169.    0.  697.  914. 1403. 1886. 1997. 2591. 3452.]\n",
      " [1184.  866.  697.    0.  217.  707. 1189. 1300. 1894. 2755.]\n",
      " [1402. 1083.  914.  217.    0.  489.  972. 1083. 1677. 2538.]\n",
      " [1891. 1572. 1403.  707.  489.    0.  483.  594. 1188. 2049.]\n",
      " [2374. 2055. 1886. 1189.  972.  483.    0.  111.  705. 1566.]\n",
      " [2485. 2166. 1997. 1300. 1083.  594.  111.    0.  594. 1455.]\n",
      " [3079. 2760. 2591. 1894. 1677. 1188.  705.  594.    0.  861.]\n",
      " [3940. 3621. 3452. 2755. 2538. 2049. 1566. 1455.  861.    0.]]\n"
     ]
    }
   ],
   "source": [
    "city =np.array(['Chicago', 'Springfield', 'Saint-Louis', 'Tulsa', 'Oklahoma City', 'Amarillo', 'Santa Fe', 'Albuquerque', 'Flagstaff', 'Los Angeles'])\n",
    "d = np.array([0, 198, 303, 736, 871, 1175, 1475, 1544, 1913, 2448])\n",
    "    \n",
    "d_2 = np.reshape(d,(10,1))\n",
    "d_2D= d-d_2\n",
    "abs_d_2D= np.abs(d_2D)\n",
    "print('Miles')\n",
    "print(abs_d_2D)\n",
    "\n",
    "mile_to_km=1.609344\n",
    "km_2D = abs_d_2D*mile_to_km\n",
    "\n",
    "print('km')\n",
    "print(np.around(km_2D))\n"
   ]
  },
  {
   "cell_type": "markdown",
   "metadata": {},
   "source": [
    "7\\. Prime numbers sieve: compute the prime numbers in the 0-N (N=99 to start with) range with a sieve (mask).\n",
    "  * Constract a shape (100,) boolean array, the mask\n",
    "  * Identify the multiples of each number starting from 2 and set accordingly the corresponding mask element\n",
    "  * Apply the mask to obtain an array of ordered prime numbers\n",
    "  * Check the performances (timeit); how does it scale with N?\n",
    "  * Implement the optimization suggested in the [sieve of Eratosthenes](https://en.wikipedia.org/wiki/Sieve_of_Eratosthenes)"
   ]
  },
  {
   "cell_type": "code",
   "execution_count": 90,
   "metadata": {},
   "outputs": [
    {
     "name": "stdout",
     "output_type": "stream",
     "text": [
      "[ 1.  2.  3.  5.  7. 11. 13. 17. 19. 23. 29. 31. 37. 41. 43. 47. 53. 59.\n",
      " 61. 67. 71. 73. 79. 83. 89. 97.]\n",
      "827 µs ± 86.9 µs per loop (mean ± std. dev. of 7 runs, 1000 loops each)\n",
      "114 µs ± 4.57 µs per loop (mean ± std. dev. of 7 runs, 10000 loops each)\n"
     ]
    }
   ],
   "source": [
    "def primes(N):\n",
    "    a =np.linspace(0,N,N+1)    \n",
    "    for i in range(2, N):\n",
    "        mask=(a % i != 0) | (a == i) # | is or in np\n",
    "        a= a[mask]# might be a better way but I just keep reducing the sample\n",
    "    return a\n",
    "\n",
    "def s_primes(N):\n",
    "    a =np.linspace(0,N,N+1)    \n",
    "    for i in range(2, int(N**0.5)):\n",
    "        mask=(a % i != 0) | (a == i)\n",
    "        a= a[mask]\n",
    "    return a\n",
    "\n",
    "N=99\n",
    "print(primes(N))\n",
    "%timeit (primes(N))\n",
    "#print(s_primes(N))\n",
    "%timeit (s_primes(N))"
   ]
  },
  {
   "cell_type": "markdown",
   "metadata": {},
   "source": [
    "**N.B. the following exercises are meant to be solved only if you are familiar with the numpy random library. If not you can skip them (postponed for one of the next exercise sessions)**\n"
   ]
  },
  {
   "cell_type": "markdown",
   "metadata": {},
   "source": [
    "8\\. Diffusion using random walk\n",
    "\n",
    "Consider a simple random walk process: at each step in time, a walker jumps right or left (+1 or -1) with equal probability. The goal is to find the typical distance from the origin of a random walker after a given amount of time. \n",
    "To do that, let's simulate many walkers and create a 2D array with each walker as a raw and the actual time evolution as columns\n",
    "\n",
    "  * Take 1000 walkers and let them walk for 200 steps\n",
    "  * Use randint to create a 2D array of size walkers x steps with values -1 or 1\n",
    "  * Build the actual walking distances for each walker (i.e. another 2D array \"summing on each raw\")\n",
    "  * Take the square of that 2D array (elementwise)\n",
    "  * Compute the mean of the squared distances at each step (i.e. the mean along the columns)\n",
    "  * Plot the average distances (sqrt(distance\\*\\*2)) as a function of time (step)\n",
    "  \n",
    "Did you get what you expected?"
   ]
  },
  {
   "cell_type": "code",
   "execution_count": null,
   "metadata": {},
   "outputs": [],
   "source": []
  },
  {
   "cell_type": "markdown",
   "metadata": {},
   "source": [
    "9\\. Analyze a data file \n",
    "  * Download the population of hares, lynxes and carrots at the beginning of the last century.\n",
    "    ```python\n",
    "    ! wget https://www.dropbox.com/s/3vigxoqayo389uc/populations.txt\n",
    "    ```\n",
    "\n",
    "  * Check the content by looking within the file\n",
    "  * Load the data (use an appropriate numpy method) into a 2D array\n",
    "  * Create arrays out of the columns, the arrays being (in order): *year*, *hares*, *lynxes*, *carrots* \n",
    "  * Plot the 3 populations over the years\n",
    "  * Compute the main statistical properties of the dataset (mean, std, correlations, etc.)\n",
    "  * Which species has the highest population each year?\n",
    "\n",
    "Do you feel there is some evident correlation here? [Studies](https://www.enr.gov.nt.ca/en/services/lynx/lynx-snowshoe-hare-cycle) tend to believe so."
   ]
  },
  {
   "cell_type": "code",
   "execution_count": null,
   "metadata": {},
   "outputs": [],
   "source": []
  },
  {
   "cell_type": "code",
   "execution_count": null,
   "metadata": {},
   "outputs": [],
   "source": []
  },
  {
   "cell_type": "code",
   "execution_count": null,
   "metadata": {},
   "outputs": [],
   "source": []
  }
 ],
 "metadata": {
  "kernelspec": {
   "display_name": "Python 3",
   "language": "python",
   "name": "python3"
  },
  "language_info": {
   "codemirror_mode": {
    "name": "ipython",
    "version": 3
   },
   "file_extension": ".py",
   "mimetype": "text/x-python",
   "name": "python",
   "nbconvert_exporter": "python",
   "pygments_lexer": "ipython3",
   "version": "3.8.8"
  }
 },
 "nbformat": 4,
 "nbformat_minor": 2
}
