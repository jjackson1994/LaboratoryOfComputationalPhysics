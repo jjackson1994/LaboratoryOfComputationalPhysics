{
 "cells": [
  {
   "cell_type": "markdown",
   "metadata": {},
   "source": [
    "1\\. **PCA on 3D dataset**\n",
    "\n",
    "* Generate a dataset with 3 features each with N entries (N being ${\\cal O}(1000)$). With $N(\\mu,\\sigma)$ the normali distribution with mean $\\mu$ and $\\sigma$  standard deviation, generate the 3 variables $x_{1,2,3}$ such that:\n",
    "    * $x_1$ is distributed as $N(0,1)$\n",
    "    * $x_2$ is distributed as $x_1+N(0,3)$\n",
    "    * $x_3$ is given by $2x_1+x_2$\n",
    "* Find the eigenvectors and eigenvalues of the covariance matrix of the dataset\n",
    "* Find the eigenvectors and eigenvalues using SVD. Check that the two procedures yield to same result\n",
    "* What percent of the total dataset's variability is explained by the principal components? Given how the dataset was constructed, do these make sense? Reduce the dimensionality of the system so that at least 99% of the total variability is retained.\n",
    "* Redefine the data in the basis yielded by the PCA procedure\n",
    "* Plot the data points in the original and the new coordiantes as a set of scatter plots. Your final figure should have 2 rows of 3 plots each, where the columns show the (0,1), (0,2) and (1,2) proejctions.\n"
   ]
  },
  {
   "cell_type": "code",
   "execution_count": 28,
   "metadata": {},
   "outputs": [
    {
     "name": "stdout",
     "output_type": "stream",
     "text": [
      "*********\n",
      "[2.56592006e+01 1.15813636e-15 2.18077406e+00]\n",
      "[2.56876236e+01 2.18771141e+00 6.83468746e-32]\n",
      "Lambda\n",
      "[[2.56592006e+01 0.00000000e+00 0.00000000e+00]\n",
      " [0.00000000e+00 1.15813636e-15 0.00000000e+00]\n",
      " [0.00000000e+00 0.00000000e+00 2.18077406e+00]]\n",
      "A.trace(): 27.83997469640709\n",
      "Lambda.trace(): 27.83997469640709\n",
      "Percentage of  the total variability\n",
      "1.0\n"
     ]
    }
   ],
   "source": [
    "import numpy as np\n",
    "import matplotlib.pyplot as plt \n",
    "N =1000 # num of data points\n",
    "mu1, sigma1 = 0, 1 # mean and standard deviation\n",
    "mu2, sigma2 = 0, 3\n",
    "x1 = np.random.normal(mu1, sigma1, N)\n",
    "x2 = x1 + np.random.normal(mu2, sigma2, N)\n",
    "x3 = 2*x1+x2\n",
    "\n",
    "X = np.stack((x1, x2, x3), axis=0)\n",
    "\n",
    "cov_X= np.cov(X)\n",
    "l, V = np.linalg.eig(cov_X) # is this n size order \n",
    "\n",
    "#svd can apply to any shape not just sq\n",
    "U, spec, v_trans = np.linalg.svd(X) # eigen vectors, \n",
    "\n",
    "l_svd = spec**2/(N-1)\n",
    "V_svd = U\n",
    "\n",
    "print('*********')\n",
    "print(l)\n",
    "print(l_svd)\n",
    "\n",
    "Xp = np.dot(V, X)\n",
    "Lambda=np.diag(l)\n",
    "print('Lambda')\n",
    "print(Lambda) \n",
    "\n",
    "print (\"A.trace():\", np.cov(X).trace())\n",
    "print (\"Lambda.trace():\", Lambda.trace())\n",
    "\n",
    "print('Percentage of  the total variability')\n",
    "print ((Lambda[0,0]+Lambda[2,2])/(Lambda[0,0]+Lambda[1,1]+Lambda[2,2]))"
   ]
  },
  {
   "cell_type": "markdown",
   "metadata": {},
   "source": [
    "This makes sense as one of our dimensions in a linear combination of the other dimensions "
   ]
  },
  {
   "cell_type": "code",
   "execution_count": 32,
   "metadata": {},
   "outputs": [
    {
     "data": {
      "text/plain": [
       "<matplotlib.collections.PathCollection at 0x2513baa9f40>"
      ]
     },
     "execution_count": 32,
     "metadata": {},
     "output_type": "execute_result"
    },
    {
     "data": {
      "image/png": "[encoded data removed]",
      "text/plain": [
       "<Figure size 864x432 with 6 Axes>"
      ]
     },
     "metadata": {
      "needs_background": "light"
     },
     "output_type": "display_data"
    }
   ],
   "source": [
    "#ndarray.TThe transposed array.\n",
    "Xp = np.dot(V.T, X)\n",
    "\n",
    "fig, ((ax0, ax1, ax2), (ax3, ax4, ax5)) = plt.subplots(nrows=2, ncols=3, sharex=True,\n",
    "                                    figsize=(12, 6))\n",
    "\n",
    "\n",
    "ax0.scatter(x1,x2)\n",
    "ax1.scatter(x1,x3)\n",
    "ax2.scatter(x2,x3)\n",
    "\n",
    "ax3.scatter(Xp[0],Xp[1])\n",
    "ax4.scatter(Xp[0],Xp[2])\n",
    "ax5.scatter(Xp[1],Xp[2])"
   ]
  },
  {
   "cell_type": "markdown",
   "metadata": {},
   "source": [
    "2\\. **PCA on a nD dataset**\n",
    "\n",
    "Start from the dataset you have genereted in the previous exercise and add uncorrelated random noise. Such noise should be represented by other 10 uncorrelated variables normal distributed, with standar deviation much smaller (say, a factor 50) than those used to generate the $x_1$ and $x_2$.\n",
    "\n",
    "Repeat the PCA procedure and compare the results with what you obtained before"
   ]
  },
  {
   "cell_type": "code",
   "execution_count": 48,
   "metadata": {
    "scrolled": true
   },
   "outputs": [
    {
     "name": "stdout",
     "output_type": "stream",
     "text": [
      "Lambda with noise\n",
      "[2.85431741e+02 2.56561548e+01 2.18078106e+00 3.78268950e-02\n",
      " 2.70471906e-02 2.01290628e-02 1.52004294e-02 1.06544318e-02\n",
      " 6.37131467e-03 3.94288356e-03 1.56945853e-03 3.99872828e-04\n",
      " 7.93678053e-32]\n",
      "Percentage of  the total variability\n",
      "0.9926484277175375\n"
     ]
    }
   ],
   "source": [
    "#gen uncorrelated varibles\n",
    "v_l = [] # variables list\n",
    "mu1, sigma1 = 0, 1\n",
    "\n",
    "for v in range(0, 10):\n",
    "    v_l.append(np.random.normal(mu1+v, (sigma1+v)/50, N))\n",
    "    \n",
    "X_n = np.stack((x1, x2, x3, v_l[0], v_l[1], v_l[2], v_l[3], v_l[4], \n",
    "                    v_l[5],v_l[6], v_l[7],v_l[8], v_l[9]), axis=0)\n",
    "\n",
    "\n",
    "\n",
    "\n",
    "U_n, spec_n, v_trans_n = np.linalg.svd(X_n) # eigen vectors, \n",
    "\n",
    "Lambda_n = spec_n**2/(N-1)\n",
    "V_n = U_n\n",
    "\n",
    "Xp_n = np.dot(V_n, X_n)\n",
    "\n",
    "print('Lambda with noise')\n",
    "print(Lambda_n) \n",
    "\n",
    "print('Percentage of  the total variability')\n",
    "print ((Lambda_n[0]+Lambda_n[1])/(np.sum(Lambda_n)))"
   ]
  },
  {
   "cell_type": "markdown",
   "metadata": {},
   "source": [
    "The noise was largely removed by PCA however it did reduce total variblity very slightly.  "
   ]
  },
  {
   "cell_type": "markdown",
   "metadata": {},
   "source": [
    "3 \\. **Looking at an oscillating spring** (optional)\n",
    "\n",
    "Imagine you have $n$ cameras looking at a spring oscillating along the $x$ axis. Each  camera record the motion of the spring looking at it along a given direction defined by the pair $(\\theta_i, \\phi_i)$, the angles in spherical coordinates. \n",
    "\n",
    "Start from the simulation of the records (say ${\\cal O}(1000)$) of the spring's motion along the x axis, assuming a little random noise affects the measurements along the $y$. Rotate such dataset to emulate the records of each camera.\n",
    "\n",
    "Perform a Principal Component Analysis on the thus obtained dataset, aiming at finding the only one coordinate that really matters.\n"
   ]
  },
  {
   "cell_type": "markdown",
   "metadata": {},
   "source": [
    "4\\. **PCA on the MAGIC dataset** (optional)\n",
    "\n",
    "Perform a PCA on the magic04.data dataset"
   ]
  },
  {
   "cell_type": "code",
   "execution_count": null,
   "metadata": {},
   "outputs": [],
   "source": [
    "# get the dataset and its description on the proper data directory\n",
    "!wget https://archive.ics.uci.edu/ml/machine-learning-databases/magic/magic04.data -P ~/data/\n",
    "!wget https://archive.ics.uci.edu/ml/machine-learning-databases/magic/magic04.names -P ~/data/ "
   ]
  }
 ],
 "metadata": {
  "kernelspec": {
   "display_name": "Python 3",
   "language": "python",
   "name": "python3"
  },
  "language_info": {
   "codemirror_mode": {
    "name": "ipython",
    "version": 3
   },
   "file_extension": ".py",
   "mimetype": "text/x-python",
   "name": "python",
   "nbconvert_exporter": "python",
   "pygments_lexer": "ipython3",
   "version": "3.8.8"
  }
 },
 "nbformat": 4,
 "nbformat_minor": 2
}
