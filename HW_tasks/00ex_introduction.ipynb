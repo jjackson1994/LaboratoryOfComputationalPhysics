{
 "cells": [
  {
   "cell_type": "markdown",
   "metadata": {},
   "source": [
    "1. The MickeyMouse problem\n",
    "\n",
    "a) Write a program that prints the numbers from 1 to 100. But for multiples of three print Mickey instead of the number and for the multiples of five print Mouse. For numbers which are multiples of both three and five print MickeyMouse\n",
    "\n",
    "b) Put the result in a tuple and substitute Mickey with Donald and Mouse with Duck"
   ]
  },
  {
   "cell_type": "code",
   "execution_count": 27,
   "metadata": {},
   "outputs": [
    {
     "name": "stdout",
     "output_type": "stream",
     "text": [
      "1\n",
      "2\n",
      "Mickey\n",
      "3\n",
      "4\n",
      "Mouse\n",
      "5\n",
      "Mickey\n",
      "6\n",
      "7\n",
      "8\n",
      "Mickey\n",
      "9\n",
      "Mouse\n",
      "10\n",
      "11\n",
      "Mickey\n",
      "12\n",
      "13\n",
      "14\n",
      "MickeyMouse\n",
      "16\n",
      "17\n",
      "Mickey\n",
      "18\n",
      "19\n",
      "Mouse\n",
      "20\n",
      "Mickey\n",
      "21\n",
      "22\n",
      "23\n",
      "Mickey\n",
      "24\n",
      "Mouse\n",
      "25\n",
      "26\n",
      "Mickey\n",
      "27\n",
      "28\n",
      "29\n",
      "MickeyMouse\n",
      "31\n",
      "32\n",
      "Mickey\n",
      "33\n",
      "34\n",
      "Mouse\n",
      "35\n",
      "Mickey\n",
      "36\n",
      "37\n",
      "38\n",
      "Mickey\n",
      "39\n",
      "Mouse\n",
      "40\n",
      "41\n",
      "Mickey\n",
      "42\n",
      "43\n",
      "44\n",
      "MickeyMouse\n",
      "46\n",
      "47\n",
      "Mickey\n",
      "48\n",
      "49\n",
      "Mouse\n",
      "50\n",
      "Mickey\n",
      "51\n",
      "52\n",
      "53\n",
      "Mickey\n",
      "54\n",
      "Mouse\n",
      "55\n",
      "56\n",
      "Mickey\n",
      "57\n",
      "58\n",
      "59\n",
      "MickeyMouse\n",
      "61\n",
      "62\n",
      "Mickey\n",
      "63\n",
      "64\n",
      "Mouse\n",
      "65\n",
      "Mickey\n",
      "66\n",
      "67\n",
      "68\n",
      "Mickey\n",
      "69\n",
      "Mouse\n",
      "70\n",
      "71\n",
      "Mickey\n",
      "72\n",
      "73\n",
      "74\n",
      "MickeyMouse\n",
      "76\n",
      "77\n",
      "Mickey\n",
      "78\n",
      "79\n",
      "Mouse\n",
      "80\n",
      "Mickey\n",
      "81\n",
      "82\n",
      "83\n",
      "Mickey\n",
      "84\n",
      "Mouse\n",
      "85\n",
      "86\n",
      "Mickey\n",
      "87\n",
      "88\n",
      "89\n",
      "MickeyMouse\n",
      "91\n",
      "92\n",
      "Mickey\n",
      "93\n",
      "94\n",
      "Mouse\n",
      "95\n",
      "Mickey\n",
      "96\n",
      "97\n",
      "98\n",
      "Mickey\n",
      "99\n",
      "Mouse\n",
      "100\n",
      "(1, 2, 'Donald', 3, 4, 'Duck', 5, 'Donald', 6, 7, 8, 'Donald', 9, 'Duck', 10, 11, 'Donald', 12, 13, 14, 'DonaldDuck', 16, 17, 'Donald', 18, 19, 'Duck', 20, 'Donald', 21, 22, 23, 'Donald', 24, 'Duck', 25, 26, 'Donald', 27, 28, 29, 'DonaldDuck', 31, 32, 'Donald', 33, 34, 'Duck', 35, 'Donald', 36, 37, 38, 'Donald', 39, 'Duck', 40, 41, 'Donald', 42, 43, 44, 'DonaldDuck', 46, 47, 'Donald', 48, 49, 'Duck', 50, 'Donald', 51, 52, 53, 'Donald', 54, 'Duck', 55, 56, 'Donald', 57, 58, 59, 'DonaldDuck', 61, 62, 'Donald', 63, 64, 'Duck', 65, 'Donald', 66, 67, 68, 'Donald', 69, 'Duck', 70, 71, 'Donald', 72, 73, 74, 'DonaldDuck', 76, 77, 'Donald', 78, 79, 'Duck', 80, 'Donald', 81, 82, 83, 'Donald', 84, 'Duck', 85, 86, 'Donald', 87, 88, 89, 'DonaldDuck', 91, 92, 'Donald', 93, 94, 'Duck', 95, 'Donald', 96, 97, 98, 'Donald', 99, 'Duck', 100)\n"
     ]
    }
   ],
   "source": [
    "b=[]\n",
    "\n",
    "for i in range(1,101): \n",
    "    if i %3==0 and i %5!=0:\n",
    "        print(\"Mickey\")\n",
    "        b.append(\"Donald\")\n",
    "    if i %5==0 and i %3!=0:\n",
    "        print(\"Mouse\")\n",
    "        b.append(\"Duck\")\n",
    "    if i %3 ==0 and i %5 ==0 :\n",
    "        print(\"MickeyMouse\")\n",
    "        b.append(\"DonaldDuck\")\n",
    "    else:\n",
    "        print(i)\n",
    "        b.append(i)\n",
    "\n",
    "b=tuple(b)\n",
    "print(b)"
   ]
  },
  {
   "cell_type": "markdown",
   "metadata": {},
   "source": [
    "2\\. The swap function\n",
    "\n",
    "Write a function that swap the values of two input variables x and y (whatever the type). Try to do that also without a temporary variable"
   ]
  },
  {
   "cell_type": "code",
   "execution_count": 2,
   "metadata": {},
   "outputs": [
    {
     "name": "stdout",
     "output_type": "stream",
     "text": [
      "(2, 4)\n"
     ]
    }
   ],
   "source": [
    "x =4\n",
    "y=2\n",
    "\n",
    "\n",
    "def swap(x, y):\n",
    "    x = x + y #add both \n",
    "    y = x - y #swaped\n",
    "    x = x - y\n",
    "    return x, y\n",
    "\n",
    "\n",
    "print(swap(x,y))"
   ]
  },
  {
   "cell_type": "markdown",
   "metadata": {},
   "source": [
    "3\\. Computing the distance\n",
    "\n",
    "Write a function that calculates and returns the euclidean distance between two points *u* and *v*, where *u* and *v* are both 2-tuples *(x,y)*. For example, if *u=(3,0)* and *v=(0,4)*, the function should return 5"
   ]
  },
  {
   "cell_type": "code",
   "execution_count": 3,
   "metadata": {},
   "outputs": [
    {
     "name": "stdout",
     "output_type": "stream",
     "text": [
      "5.0\n"
     ]
    }
   ],
   "source": [
    "v = (0,4)\n",
    "u = (3,0)\n",
    "\n",
    "def distance_calculator(u, v):\n",
    "    diff_1=u[0]-v[0]\n",
    "    diff_2=u[1]-v[1]\n",
    "    distance= diff_1*diff_1 + diff_2*diff_2\n",
    "    return distance**0.5\n",
    "\n",
    "print(distance_calculator(u, v))"
   ]
  },
  {
   "cell_type": "markdown",
   "metadata": {},
   "source": [
    "4\\. Counting letters\n",
    "\n",
    "Write a program to calculate the number of times each character occurs in a given string *s*. Ignore differneces in capitalization"
   ]
  },
  {
   "cell_type": "code",
   "execution_count": 1,
   "metadata": {},
   "outputs": [],
   "source": [
    "s=\"Write a program that prints the numbers from 1 to 100. \\\n",
    "But for multiples of three print Mickey instead of the number and for the multiples of five print Mouse. \\\n",
    "For numbers which are multiples of both three and five print MickeyMouse\""
   ]
  },
  {
   "cell_type": "code",
   "execution_count": 7,
   "metadata": {},
   "outputs": [
    {
     "name": "stdout",
     "output_type": "stream",
     "text": [
      "9\n"
     ]
    }
   ],
   "source": [
    "count = 0;\n",
    "for char in enumerate(s): \n",
    "    if char[1]==\"S\" or char[1]==\"s\":\n",
    "        count= count+1; \n",
    "print(count)"
   ]
  },
  {
   "cell_type": "markdown",
   "metadata": {},
   "source": [
    "5\\. Isolating the unique\n",
    "\n",
    "Write a function that determines and count the unique numbers in the list *l*"
   ]
  },
  {
   "cell_type": "code",
   "execution_count": null,
   "metadata": {},
   "outputs": [],
   "source": []
  },
  {
   "cell_type": "code",
   "execution_count": 55,
   "metadata": {},
   "outputs": [
    {
     "name": "stdout",
     "output_type": "stream",
     "text": [
      "input length =  80 , number unique =  54\n"
     ]
    }
   ],
   "source": [
    "l = [36, 45, 58, 3, 74, 96, 64, 45, 31, 10, 24, 19, 33, 86, 99, 18, 63, 70, 85,\n",
    " 85, 63, 47, 56, 42, 70, 84, 88, 55, 20, 54, 8, 56, 51, 79, 81, 57, 37, 91,\n",
    " 1, 84, 84, 36, 66, 9, 89, 50, 42, 91, 50, 95, 90, 98, 39, 16, 82, 31, 92, 41,\n",
    " 45, 30, 66, 70, 34, 85, 94, 5, 3, 36, 72, 91, 84, 34, 87, 75, 53, 51, 20, 89, 51, 20]\n",
    "\n",
    "def unique_list(list):\n",
    "    Set = set(list)\n",
    "    return Set\n",
    "u_list=unique_list(l)\n",
    "\n",
    "print(\"input length = \", len(l), \", number unique = \", len(u_list))\n"
   ]
  },
  {
   "cell_type": "markdown",
   "metadata": {},
   "source": [
    "6\\. Combination of functions\n",
    "\n",
    "Write two functions - one that returns the square of a number, and one that returns the cube. Now write a third function that returns the number raised to the 6th power using the two previous functions."
   ]
  },
  {
   "cell_type": "code",
   "execution_count": 58,
   "metadata": {},
   "outputs": [
    {
     "name": "stdout",
     "output_type": "stream",
     "text": [
      "2^2 4\n",
      "2^3 8\n",
      "2^6 64\n"
     ]
    }
   ],
   "source": [
    "def sq_num(number):\n",
    "    return number**2\n",
    "def cube_num(number):\n",
    "    return number**3\n",
    "def sixth_num(number):\n",
    "    return cube_num(sq_num(number))\n",
    "#test \n",
    "\n",
    "print(\"2^2\", sq_num(2))\n",
    "print(\"2^3\", cube_num(2))\n",
    "print(\"2^6\", sixth_num(2))"
   ]
  },
  {
   "cell_type": "markdown",
   "metadata": {},
   "source": [
    "7\\. Cubes\n",
    "\n",
    "Create a list of the cubes of x for x in *[0, 10]* using:\n",
    "\n",
    "a) a for loop\n",
    "\n",
    "b) a list comprehension"
   ]
  },
  {
   "cell_type": "code",
   "execution_count": 63,
   "metadata": {},
   "outputs": [
    {
     "name": "stdout",
     "output_type": "stream",
     "text": [
      "[0, 1000] [0, 1000]\n"
     ]
    }
   ],
   "source": [
    "n=[0,10]\n",
    "a_cubes=[]\n",
    "b_cubes=[]\n",
    "\n",
    "for i in range(0, len(n)): \n",
    "    a_cubes.append(n[i]**3) \n",
    "\n",
    "for i in n:\n",
    "    b_cubes.append(i**3)\n",
    "    \n",
    "[]\n",
    "\n",
    "print(a_cubes, b_cubes)"
   ]
  },
  {
   "cell_type": "markdown",
   "metadata": {},
   "source": [
    "8\\. Nested list comprehension\n",
    "\n",
    "A Pythagorean triple is an integer solution to the Pythagorean theorem $a^2+b^2=c^2$. The first Pythagorean triple is (3,4,5). Find and put in a tuple all unique Pythagorean triples for the positive integers a, b and c less than 100."
   ]
  },
  {
   "cell_type": "code",
   "execution_count": 21,
   "metadata": {},
   "outputs": [
    {
     "name": "stdout",
     "output_type": "stream",
     "text": [
      "((3, 4, 5), (4, 3, 5), (5, 12, 13), (6, 8, 10), (7, 24, 25), (8, 6, 10), (8, 15, 17), (9, 12, 15), (9, 40, 41), (10, 24, 26), (11, 60, 61), (12, 5, 13), (12, 9, 15), (12, 16, 20), (12, 35, 37), (13, 84, 85), (14, 48, 50), (15, 8, 17), (15, 20, 25), (15, 36, 39), (16, 12, 20), (16, 30, 34), (16, 63, 65), (18, 24, 30), (18, 80, 82), (20, 15, 25), (20, 21, 29), (20, 48, 52), (21, 20, 29), (21, 28, 35), (21, 72, 75), (24, 7, 25), (24, 10, 26), (24, 18, 30), (24, 32, 40), (24, 45, 51), (24, 70, 74), (25, 60, 65), (27, 36, 45), (28, 21, 35), (28, 45, 53), (28, 96, 100), (30, 16, 34), (30, 40, 50), (30, 72, 78), (32, 24, 40), (32, 60, 68), (33, 44, 55), (33, 56, 65), (35, 12, 37), (35, 84, 91), (36, 15, 39), (36, 27, 45), (36, 48, 60), (36, 77, 85), (39, 52, 65), (39, 80, 89), (40, 9, 41), (40, 30, 50), (40, 42, 58), (40, 75, 85), (42, 40, 58), (42, 56, 70), (44, 33, 55), (45, 24, 51), (45, 28, 53), (45, 60, 75), (48, 14, 50), (48, 20, 52), (48, 36, 60), (48, 55, 73), (48, 64, 80), (51, 68, 85), (52, 39, 65), (54, 72, 90), (55, 48, 73), (56, 33, 65), (56, 42, 70), (57, 76, 95), (60, 11, 61), (60, 25, 65), (60, 32, 68), (60, 45, 75), (60, 63, 87), (60, 80, 100), (63, 16, 65), (63, 60, 87), (64, 48, 80), (65, 72, 97), (68, 51, 85), (70, 24, 74), (72, 21, 75), (72, 30, 78), (72, 54, 90), (72, 65, 97), (75, 40, 85), (76, 57, 95), (77, 36, 85), (80, 18, 82), (80, 39, 89), (80, 60, 100), (84, 13, 85), (84, 35, 91), (96, 28, 100))\n"
     ]
    }
   ],
   "source": [
    "int_list=[]\n",
    "for a in range(1,100):\n",
    "    a_sq= a*a\n",
    "    for b in range(1,100):\n",
    "        b_sq= b*b\n",
    "        c_sq= a_sq+b_sq\n",
    "        c=c_sq**0.5\n",
    "        if c%1==0:\n",
    "         int_list.append((a,b,int(c)))\n",
    "        if c>100:\n",
    "            break\n",
    "        b+=1\n",
    "    a+=1\n",
    "print(tuple(int_list))"
   ]
  },
  {
   "cell_type": "markdown",
   "metadata": {},
   "source": [
    "9\\. Normalization\n",
    "\n",
    "Write a function that takes a tuple of numbers and returns it with the entries normalized to one"
   ]
  },
  {
   "cell_type": "code",
   "execution_count": 28,
   "metadata": {},
   "outputs": [
    {
     "name": "stdout",
     "output_type": "stream",
     "text": [
      "(0.21428571428571427, 0.35714285714285715, 0.42857142857142855)\n"
     ]
    }
   ],
   "source": [
    "def tup_norm(t):\n",
    "    total=0\n",
    "    output=[]\n",
    "    if type(t) is tuple:\n",
    "        for i in t:\n",
    "            total=total+i\n",
    "        for e in t:\n",
    "            output.append(e/total)\n",
    "        return tuple(output)\n",
    "a= (3, 5, 6)\n",
    "print(tup_norm(a))"
   ]
  }
 ],
 "metadata": {
  "kernelspec": {
   "display_name": "Python 3",
   "language": "python",
   "name": "python3"
  },
  "language_info": {
   "codemirror_mode": {
    "name": "ipython",
    "version": 3
   },
   "file_extension": ".py",
   "mimetype": "text/x-python",
   "name": "python",
   "nbconvert_exporter": "python",
   "pygments_lexer": "ipython3",
   "version": "3.8.8"
  }
 },
 "nbformat": 4,
 "nbformat_minor": 2
}
