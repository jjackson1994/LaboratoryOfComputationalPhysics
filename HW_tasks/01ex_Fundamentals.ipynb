{
 "cells": [
  {
   "cell_type": "markdown",
   "metadata": {},
   "source": [
    "1\\. Write the following as a list comprehension"
   ]
  },
  {
   "cell_type": "code",
   "execution_count": null,
   "metadata": {
    "scrolled": true
   },
   "outputs": [],
   "source": [
    "# 1\n",
    "ans = []\n",
    "for i in range(3):\n",
    "    for j in range(4):\n",
    "        ans.append((i, j))\n",
    "print (ans)\n",
    "\n",
    "q1= []\n",
    "[[q1.append((i, j)) for j in range(4)] for i in range(3)]\n",
    "print(q1)\n",
    "\n",
    "\n",
    "# 2\n",
    "ans = map(lambda x: x*x, filter(lambda x: x%2 == 0, range(5)))\n",
    "print (list(ans))\n",
    "\n",
    "q2 = [x*x for x in range(5) if x%2 == 0] \n",
    "print(q2)\n"
   ]
  },
  {
   "cell_type": "markdown",
   "metadata": {},
   "source": [
    "2\\. Convert the following function into a pure function with no global variables or side effects"
   ]
  },
  {
   "cell_type": "code",
   "execution_count": null,
   "metadata": {},
   "outputs": [],
   "source": []
  },
  {
   "cell_type": "code",
   "execution_count": null,
   "metadata": {},
   "outputs": [],
   "source": [
    "x = 5\n",
    "def f(alist):\n",
    "    for i in range(x):\n",
    "         alist.append(i)\n",
    "    return alist\n",
    "\n",
    "alist = [1,2,3]\n",
    "ans = f(alist)\n",
    "#print (ans)\n",
    "#print (alist) # alist has been changed!\n",
    "\n",
    "#my code\n",
    "def f(alist, x):\n",
    "    c_list=alist.copy()\n",
    "    for i in range(x):\n",
    "         c_list.append(i)\n",
    "    return c_list\n",
    "\n",
    "alist = [1,2,3]\n",
    "ans = f(alist,x)\n",
    "print (ans)\n",
    "print (alist) # alist now unchanged!\n"
   ]
  },
  {
   "cell_type": "markdown",
   "metadata": {},
   "source": [
    "3\\. Write a `decorator` hello that makes every wrapped function print “Hello!”, i.e. something like:"
   ]
  },
  {
   "cell_type": "code",
   "execution_count": 1,
   "metadata": {},
   "outputs": [
    {
     "name": "stdout",
     "output_type": "stream",
     "text": [
      "Hello\n",
      "4\n",
      "Hello\n"
     ]
    },
    {
     "data": {
      "text/plain": [
       "16"
      ]
     },
     "execution_count": 1,
     "metadata": {},
     "output_type": "execute_result"
    }
   ],
   "source": [
    "def hello(func):\n",
    "   def wrapper(*args):\n",
    "       print(\"Hello\")\n",
    "       return func(*args)\n",
    "   return wrapper\n",
    "\n",
    "@hello\n",
    "def square(x):\n",
    "    return x*x\n",
    "\n",
    "a=square(2)\n",
    "print(a)\n",
    "square(4)"
   ]
  },
  {
   "cell_type": "markdown",
   "metadata": {},
   "source": [
    "4\\. Write the factorial function so that it a) does and b) does not use recursion."
   ]
  },
  {
   "cell_type": "code",
   "execution_count": 13,
   "metadata": {},
   "outputs": [
    {
     "name": "stdout",
     "output_type": "stream",
     "text": [
      "120\n",
      "120\n"
     ]
    }
   ],
   "source": [
    "def factorial(n):\n",
    "    for i in range(1,n):\n",
    "        n=n*i\n",
    "    return n\n",
    "\n",
    "def factorial_rec(n):\n",
    "    \"\"\"factorial with recursion.\"\"\"\n",
    "    if (n <= 1):\n",
    "        return 1\n",
    "    else:\n",
    "        return (n * factorial_rec(n-1)) \n",
    "print(factorial(5))\n",
    "print(factorial_rec(5))   "
   ]
  },
  {
   "cell_type": "markdown",
   "metadata": {},
   "source": [
    "5\\. Use HOFs (zip in particular) to compute the weight of a circle, a disk and a sphere, assuming different radii and different densities:\n",
    "\n",
    "```python\n",
    "densities = {\"Al\":[0.5,1,2],\"Fe\":[3,4,5],\"Pb\": [15,20,30]}\n",
    "radii = [1,2,3]\n",
    "```\n",
    "\n",
    "where the entries of the dictionary's values are the linear, superficial and volumetric densities of the materials respectively.\n",
    "\n",
    "In particular define a list of three lambda functions using a comprehension that computes the circumference, the area and the volume for a given radius.\n"
   ]
  },
  {
   "cell_type": "code",
   "execution_count": 44,
   "metadata": {},
   "outputs": [
    {
     "name": "stdout",
     "output_type": "stream",
     "text": [
      "r =  1\n",
      "       Al                 Fe                Pb          \n",
      "Linear 3.141592653589793 18.84955592153876 94.24777960769379\n",
      "Area   3.141592653589793 12.566370614359172 62.83185307179586\n",
      "Volume 8.377580409572781 20.94395102393195 125.66370614359171\n",
      "r =  2\n",
      "       Al                 Fe                Pb          \n",
      "Linear 6.283185307179586 37.69911184307752 188.49555921538757\n",
      "Area   12.566370614359172 50.26548245743669 251.32741228718345\n",
      "Volume 67.02064327658225 167.5516081914556 1005.3096491487337\n",
      "r =  3\n",
      "       Al                 Fe                Pb          \n",
      "Linear 9.42477796076938 56.548667764616276 282.7433388230814\n",
      "Area   28.274333882308138 113.09733552923255 565.4866776461628\n",
      "Volume 226.1946710584651 565.4866776461628 3392.9200658769764\n"
     ]
    }
   ],
   "source": [
    "import math\n",
    "#data\n",
    "pi=math.pi\n",
    "dens = {\"Al\":[0.5,1,2],\"Fe\":[3,4,5],\"Pb\": [15,20,30]}\n",
    "radii = [1,2,3]\n",
    "\n",
    "#lambda\n",
    "w_circ = lambda r, p_lin: 2*pi*r*p_lin\n",
    "w_disk = lambda r, p_area: pi*r*r*p_area\n",
    "w_sphere = lambda r, p_vol: (4/3)*pi*r*r*r*p_vol\n",
    "f_list = [w_circ, w_disk, w_sphere]\n",
    "labels= ['Linear', 'Area  ', 'Volume']\n",
    "\n",
    "#HOF example (ZIP):Note useful for iterating over multiple lists\n",
    "\n",
    "for r in radii:\n",
    "    print('r = ', r)\n",
    "    print('       Al                ','Fe               ', 'Pb          ')    \n",
    "    for l, f, p_AL, p_Fe, p_Pb in zip(labels, f_list, dens[\"Al\"], dens[\"Fe\"], dens[\"Pb\"]):\n",
    "        print(l, f(r, p_AL), f(r, p_Fe), f(r, p_Pb))"
   ]
  },
  {
   "cell_type": "markdown",
   "metadata": {},
   "source": [
    "6\\. Edit the class defintion to add an instance attribute of is_hungry = True to the Dog class. Then add a method called eat() which changes the value of is_hungry to False when called. Figure out the best way to feed each dog and then output “My dogs are hungry.” if all are hungry or “My dogs are not hungry.” if all are not hungry. The final output should look like this:\n",
    "\n",
    "`I have 3 dogs. \n",
    "Tom is 6. \n",
    "Fletcher is 7. \n",
    "Larry is 9. \n",
    "And they're all mammals, of course. \n",
    "My dogs are not hungry.\n",
    "`\n",
    "\n",
    "```python\n",
    "# Parent class\n",
    "class Dog:\n",
    "\n",
    "    # Class attribute\n",
    "    species = 'mammal'\n",
    "\n",
    "    # Initializer / Instance attributes\n",
    "    def __init__(self, name, age):\n",
    "        self.name = name\n",
    "        self.age = age\n",
    "\n",
    "    # instance method\n",
    "    def description(self):\n",
    "        return \"{} is {} years old\".format(self.name, self.age)\n",
    "\n",
    "    # instance method\n",
    "    def speak(self, sound):\n",
    "        return \"{} says {}\".format(self.name, sound)\n",
    "\n",
    "# Child class (inherits from Dog class)\n",
    "class RussellTerrier(Dog):\n",
    "    def run(self, speed):\n",
    "        return \"{} runs {}\".format(self.name, speed)\n",
    "\n",
    "# Child class (inherits from Dog class)\n",
    "class Bulldog(Dog):\n",
    "    def run(self, speed):\n",
    "        return \"{} runs {}\".format(self.name, speed)\n",
    "```"
   ]
  },
  {
   "cell_type": "code",
   "execution_count": 47,
   "metadata": {},
   "outputs": [],
   "source": [
    "# Parent class\n",
    "class Dog:\n",
    "\n",
    "    # Class attribute\n",
    "    species = 'mammal'\n",
    "\n",
    "    # Initializer / Instance attributes\n",
    "    def __init__(self, name, age):\n",
    "        self.name = name\n",
    "        self.age = age\n",
    "        self.is_hungry = True\n",
    "\n",
    "    # instance method\n",
    "    def description(self):\n",
    "        return \"{} is {} years old\".format(self.name, self.age)\n",
    "\n",
    "    # instance method\n",
    "    def speak(self, sound):\n",
    "        return \"{} says {}\".format(self.name, sound)\n",
    "    # instance method\n",
    "    def eat(self):\n",
    "        self.is_hungry = False\n",
    "    \n",
    "# Child class (inherits from Dog class)\n",
    "class RussellTerrier(Dog):\n",
    "    def run(self, speed):\n",
    "        return \"{} runs {}\".format(self.name, speed)\n",
    "\n",
    "# Child class (inherits from Dog class)\n",
    "class Bulldog(Dog):\n",
    "    def run(self, speed):\n",
    "        return \"{} runs {}\".format(self.name, speed)"
   ]
  },
  {
   "cell_type": "code",
   "execution_count": 66,
   "metadata": {},
   "outputs": [
    {
     "name": "stdout",
     "output_type": "stream",
     "text": [
      "I have 3 dogs\n",
      "Rover is 6 years old\n",
      "Snoopy is 3 years old\n",
      "Lassey is 2 years old\n",
      "And they are all mammals of course \n",
      "My dogs are not hungry\n"
     ]
    }
   ],
   "source": [
    "dog_names= ['Rover', 'Snoopy', 'Lassey']\n",
    "ages = [6,3,2]\n",
    "dogs = [Dog(n, a) for n ,a in zip(dog_names, ages)]\n",
    "\n",
    "def dog_count(dog_list):\n",
    "    print(\"I have {} dogs\".format(len(dogs)))\n",
    "\n",
    "def hungry_test(dog_list): \n",
    "    h_dogs=False\n",
    "    for d in dog_list:\n",
    "        if d.is_hungry == True:\n",
    "            h_dogs=True;\n",
    "            print('I have a hungry dog')\n",
    "    if h_dogs == False:\n",
    "            print('My dogs are not hungry')\n",
    "\n",
    "def feed_all(dog_list):\n",
    "    for d in dog_list:\n",
    "        d.eat()\n",
    "def describe_all(dog_list):\n",
    "    for d in dog_list: print(d.description())       \n",
    "feed_all(dogs)\n",
    "dog_count(dogs)\n",
    "describe_all(dogs)\n",
    "print(\"And they are all {}s of course \".format(d.species))\n",
    "hungry_test(dogs)\n",
    "\n"
   ]
  },
  {
   "cell_type": "code",
   "execution_count": null,
   "metadata": {},
   "outputs": [],
   "source": []
  }
 ],
 "metadata": {
  "kernelspec": {
   "display_name": "Python 3",
   "language": "python",
   "name": "python3"
  },
  "language_info": {
   "codemirror_mode": {
    "name": "ipython",
    "version": 3
   },
   "file_extension": ".py",
   "mimetype": "text/x-python",
   "name": "python",
   "nbconvert_exporter": "python",
   "pygments_lexer": "ipython3",
   "version": "3.8.8"
  }
 },
 "nbformat": 4,
 "nbformat_minor": 2
}
