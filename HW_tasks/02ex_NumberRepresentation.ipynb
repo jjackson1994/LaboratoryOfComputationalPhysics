{
 "cells": [
  {
   "cell_type": "markdown",
   "metadata": {},
   "source": [
    "1\\. Write a function that converts number representation (bin<->dec<->hex)"
   ]
  },
  {
   "cell_type": "code",
   "execution_count": 1,
   "metadata": {
    "scrolled": true
   },
   "outputs": [
    {
     "name": "stdout",
     "output_type": "stream",
     "text": [
      "0x2d\n",
      "0b101101\n",
      "45\n",
      "0x2d\n",
      "0b101101\n",
      "45\n"
     ]
    }
   ],
   "source": [
    "def convert_rep(number):\n",
    "    num_rep=None\n",
    "    if isinstance(number, str):#know its not decimal\n",
    "        if 'x' in number:#hex\n",
    "            return bin(int(number, 16))\n",
    "        if 'b' in number:#binary\n",
    "            return int(number, 2)\n",
    "    if isinstance(number, int):#decimal - convert to hex\n",
    "        return hex(number)\n",
    "    return num_rep\n",
    "\n",
    "num=45\n",
    "for a in range(0,6):\n",
    "    num=convert_rep(num)\n",
    "    print(num)"
   ]
  },
  {
   "cell_type": "markdown",
   "metadata": {},
   "source": [
    "2\\. Write a function that converts a 32 bit word into a single precision floating point (i.e. interprets the various bits as sign, mantissa and exponent)"
   ]
  },
  {
   "cell_type": "code",
   "execution_count": 10,
   "metadata": {},
   "outputs": [
    {
     "name": "stdout",
     "output_type": "stream",
     "text": [
      "1.3400635599374078e-36\n"
     ]
    }
   ],
   "source": [
    "def float_val(value):\n",
    "    bias = 127 #arbitary choice in definition of float\n",
    "    s = int(value[0])\n",
    "    e = int(value[1:9], 2) - bias\n",
    "    m = value[9:]\n",
    "    m_int = 0\n",
    "    e_2 = -1\n",
    "    for i in m:\n",
    "        m_int += (int(i) * (2**e_2))\n",
    "        e_2 -= 1\n",
    "    val= ((-1)**s)*(m_int+1)*(2**e)\n",
    "    return val \n",
    "word = '00000011111001000000000000000000'\n",
    "word_test=int(word)\n",
    "\n",
    "print(float_val(word)) # checked with the exmaple"
   ]
  },
  {
   "cell_type": "markdown",
   "metadata": {},
   "source": [
    "3\\. Write a program to determine the underflow and overflow limits (within a factor of 2) for python on your computer. \n",
    "\n",
    "**Tips**: define two variables inizialized to 1 and halve/double them enough time to exceed the under/over-flow limits  "
   ]
  },
  {
   "cell_type": "code",
   "execution_count": 19,
   "metadata": {},
   "outputs": [
    {
     "name": "stdout",
     "output_type": "stream",
     "text": [
      "8.98846567431158e+307\n",
      "5e-324\n"
     ]
    }
   ],
   "source": [
    "#overflow (floating- point) A situation in which a positive exponent becomes too large to fit in the exponent field.\n",
    "#underflow (floating- point) A situation in which a negative exponent becomes too large to fit in the exponent field. \n",
    "a=1\n",
    "b=1\n",
    "n=0 \n",
    "\n",
    "float_max = float('inf')\n",
    "float_min = 0\n",
    "\n",
    "def overflow(): \n",
    "    a=float(1)\n",
    "    while a != float_max:\n",
    "        a_val=a# return the value before it breaks\n",
    "        a=a*2\n",
    "    return a_val\n",
    "print(overflow())\n",
    "\n",
    "def underflow(): \n",
    "    b=float(1)\n",
    "    while b != float_min:\n",
    "        b_val=b# return the value before it breaks\n",
    "        b=b/2\n",
    "    return b_val\n",
    "print(underflow())"
   ]
  },
  {
   "cell_type": "markdown",
   "metadata": {},
   "source": [
    "4\\. Write a program to determine the machine precision\n",
    "\n",
    "**Tips**: define a new variable by adding a smaller and smaller value (proceeding similarly to prob. 2) to an original variable and check the point where the two are the same "
   ]
  },
  {
   "cell_type": "code",
   "execution_count": null,
   "metadata": {},
   "outputs": [],
   "source": [
    "n = 1\n",
    "while n+1!=1:\n",
    "    n=n/2\n",
    "print(n)"
   ]
  },
  {
   "cell_type": "markdown",
   "metadata": {},
   "source": [
    "5\\. Write a function that takes in input three parameters $a$, $b$ and $c$ and prints out the two solutions to the quadratic equation $ax^2+bx+c=0$ using the standard formula:\n",
    "$$\n",
    "x=\\frac{-b\\pm\\sqrt{b^2-4ac}}{2a}\n",
    "$$\n",
    "\n",
    "(a) use the program to compute the solution for $a=0.001$, $b=1000$ and $c=0.001$\n",
    "\n",
    "(b) re-express the standard solution formula by multiplying top and bottom by $-b\\mp\\sqrt{b^2-4ac}$ and again find the solution for $a=0.001$, $b=1000$ and $c=0.001$. How does it compare with what previously obtained? Why?\n",
    "\n",
    "(c) write a function that compute the roots of a quadratic equation accurately in all cases"
   ]
  },
  {
   "cell_type": "code",
   "execution_count": null,
   "metadata": {},
   "outputs": [],
   "source": [
    "def quadratic(a, b, c):\n",
    "    root=(b*b-4*a*c)**0.5\n",
    "    ans1=(-b+root)/(2*a)\n",
    "    ans2=(-b-root)/(2*a)\n",
    "    return ans1, ans2\n",
    "\n",
    "def quadratic_alt(a, b, c): \n",
    "    root=(b*b-4*a*c)**0.5 \n",
    "    ans1=(2*c)/((2*a)*(-b+root))\n",
    "    ans2=(2*c)/((2*a)*(-b-root)) \n",
    "    return ans1, ans2\n",
    "\n",
    "## float rounding error\n",
    "## when 4ac small compaired to b^2 and  sign the same its so close to \n",
    "#b - (b+db) not ideal\n",
    "\n",
    "def sign(num):\n",
    "    if num < 0:\n",
    "        return -1\n",
    "    if num > 0:\n",
    "        return 1\n",
    "    if num == 0:\n",
    "        return 0\n",
    "\n",
    "def quadratic_solution(a, b, c):\n",
    "    root=(b*b-4*a*c)**0.5 \n",
    "    ans1= (-b-sign(b))*root\n",
    "    ans2= c/(a*ans1)\n",
    "    return ans1, ans2\n",
    "    \n",
    "print(quadratic(0.001,1000,0.001))\n",
    "print(quadratic_alt(0.001,1000,0.001))\n",
    "print(quadratic_solution(0.001,1000,0.001))"
   ]
  },
  {
   "cell_type": "markdown",
   "metadata": {},
   "source": [
    "6\\. Write a program that implements the function $f(x)=x(x−1)$\n",
    "\n",
    "(a) Calculate the derivative of the function at the point $x = 1$ using the derivative definition:\n",
    "\n",
    "$$\n",
    "\\frac{{\\rm d}f}{{\\rm d}x} = \\lim_{\\delta\\to0} \\frac{f(x+\\delta)-f(x)}{\\delta}\n",
    "$$\n",
    "\n",
    "with $\\delta = 10^{−2}$. Calculate the true value of the same derivative analytically and compare with the answer your program gives. The two will not agree perfectly. Why not?\n",
    "\n",
    "(b) Repeat the calculation for $\\delta = 10^{−4}, 10^{−6}, 10^{−8}, 10^{−10}, 10^{−12}$ and $10^{−14}$. How does the accuracy scales with $\\delta$?"
   ]
  },
  {
   "cell_type": "code",
   "execution_count": null,
   "metadata": {},
   "outputs": [],
   "source": [
    "def f(x):\n",
    "    return x*(x-1)\n",
    "\n",
    "def df_dx(x,dx):\n",
    "    return (f(x+dx) -f(x))/dx\n",
    "\n",
    "x=1\n",
    "dx = 0.01\n",
    "\n",
    "print(df_dx(x,dx))\n",
    "\n",
    "##Why\n",
    "\n",
    "for n in range(2,6):\n",
    "    dx= 10**(-2*n)\n",
    "    print('dx =',dx, ', df_dx =', df_dx(x,dx)   )"
   ]
  },
  {
   "cell_type": "markdown",
   "metadata": {},
   "source": [
    "7\\. Consider the integral of the semicircle of radius 1:\n",
    "$$\n",
    "I=\\int_{-1}^{1} \\sqrt(1-x^2) {\\rm d}x\n",
    "$$\n",
    "which it's known to be $I=\\frac{\\pi}{2}=1.57079632679...$.\n",
    "Alternatively we can use the Riemann definition of the integral:\n",
    "$$\n",
    "I=\\lim_{N\\to\\infty} \\sum_{k=1}^{N} h y_k \n",
    "$$\n",
    "\n",
    "with $h=2/N$ the width of each of the $N$ slices the domain is divided into and where\n",
    "$y_k$ is the value of the function at the $k-$th slice.\n",
    "\n",
    "(a) Write a programe to compute the integral with $N=100$. How does the result compares to the true value?\n",
    "\n",
    "(b) How much can $N$ be increased if the computation needs to be run in less than a second? What is the gain in running it for 1 minute? \n"
   ]
  },
  {
   "cell_type": "code",
   "execution_count": 1,
   "metadata": {},
   "outputs": [
    {
     "name": "stdout",
     "output_type": "stream",
     "text": [
      "N = 745039 ,dt_break =  1.3136676999999999\n",
      "I_100 1.5534179294048955\n",
      "This is only correct to two significant figures which is expected as the N=100 is still a small run\n",
      "I_1min 1.5707962995515357\n"
     ]
    }
   ],
   "source": [
    "import numpy as np\n",
    "import math\n",
    "from timeit import default_timer as timer\n",
    "\n",
    "def I(N):\n",
    "    h=2/N\n",
    "    I=0\n",
    "    r=np.linspace(-1,1,N)\n",
    "    for k in r:\n",
    "        y_k=math.sqrt((1-k**2))\n",
    "        I+=h*y_k \n",
    "    return I\n",
    "\n",
    "def N_finder(N_guess,t_allowed):\n",
    "    N=N_guess\n",
    "    t0 = timer()\n",
    "    I(N)\n",
    "    t1 = timer()\n",
    "    dt=t1-t0\n",
    "    if (dt<t_allowed):\n",
    "        N=int(N+N*0.5)#increase by 50%\n",
    "        N_finder(N,t_allowed)\n",
    "    else:\n",
    "        print('N =', N, ',dt_break = ', dt)\n",
    "\n",
    "N_finder(100,1)\n",
    "#N_finder(1000000,60) #takes a while but once you have the value it's ideal\n",
    "\n",
    "        \n",
    "#I ran timeit once I had N but don't unless you have 8 mins to kill marking my work\n",
    "#%timeit (I(57665035))\n",
    "\n",
    "#results\n",
    "###1min 4s ± 1.24 s per loop (mean ± std. dev. of 7 runs, 1 loop each)\n",
    "\n",
    "print('I_100', I(100))\n",
    "print('This is only correct to two significant figures')\n",
    "print('which is expected as the N=100 is still a small run')\n",
    "\n",
    "print('I_1min', I(57665035))\n",
    "print('1 min gives 5 figures correct')"
   ]
  },
  {
   "cell_type": "code",
   "execution_count": null,
   "metadata": {},
   "outputs": [],
   "source": []
  },
  {
   "cell_type": "code",
   "execution_count": null,
   "metadata": {},
   "outputs": [],
   "source": []
  }
 ],
 "metadata": {
  "kernelspec": {
   "display_name": "Python 3",
   "language": "python",
   "name": "python3"
  },
  "language_info": {
   "codemirror_mode": {
    "name": "ipython",
    "version": 3
   },
   "file_extension": ".py",
   "mimetype": "text/x-python",
   "name": "python",
   "nbconvert_exporter": "python",
   "pygments_lexer": "ipython3",
   "version": "3.8.8"
  }
 },
 "nbformat": 4,
 "nbformat_minor": 2
}
